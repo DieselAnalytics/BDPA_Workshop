{
 "cells": [
  {
   "cell_type": "markdown",
   "metadata": {},
   "source": [
    "![title](https://user-images.githubusercontent.com/16294340/44064358-9f6f5a12-9f32-11e8-9516-fee9aac92884.png)"
   ]
  },
  {
   "cell_type": "markdown",
   "metadata": {},
   "source": [
    "# Wrangling *Income by Race* data using R\n",
    "## BDPA Confernce 2018 "
   ]
  },
  {
   "cell_type": "markdown",
   "metadata": {},
   "source": [
    "In the Notebook we will use three R packages to cleans and reshape the income data into a form that is conducive for data analytics. The three packages we will use are readxl, dplyr, and tidyr. The readxl package will be used to load data from the CensusIncomeData Excel workbook into a R dataframe. The dplyr package from tidyverse will be used to wrangle and shape the data. And the tidyr package will be used to unpivot the data and put it in a \"tidy\" format."
   ]
  },
  {
   "cell_type": "code",
   "execution_count": 1,
   "metadata": {},
   "outputs": [
    {
     "name": "stderr",
     "output_type": "stream",
     "text": [
      "-- Attaching packages --------------------------------------- tidyverse 1.2.1 --\n",
      "v ggplot2 2.2.1     v purrr   0.2.4\n",
      "v tibble  1.4.2     v dplyr   0.7.5\n",
      "v tidyr   0.8.1     v stringr 1.3.1\n",
      "v readr   1.1.1     v forcats 0.3.0\n",
      "-- Conflicts ------------------------------------------ tidyverse_conflicts() --\n",
      "x dplyr::filter() masks stats::filter()\n",
      "x dplyr::lag()    masks stats::lag()\n"
     ]
    }
   ],
   "source": [
    "library(readxl)\n",
    "library(tidyverse)"
   ]
  },
  {
   "cell_type": "markdown",
   "metadata": {},
   "source": [
    "We first need to set the working directory to the path of the folder where the CensusIncomeData.xlsx file is located. We then use the read_excel function from the readxl package to read in the data from the workbook into a R dataframe. Note that we explicitly reference the sheet name and the number of rows we want to skip."
   ]
  },
  {
   "cell_type": "code",
   "execution_count": 2,
   "metadata": {},
   "outputs": [],
   "source": [
    "#setwd(\"<path where the CensusIncomeData.xlsx file is located\")\n",
    "setwd(\"C:/Users/rwade/OneDrive - Diesel Analytics/Talks/BDPA/Code/TestCode/\")\n",
    "unformatted_data <- \n",
    "    read_excel(\n",
    "        \"./Data/CensusIncomeData.xlsx\", \n",
    "        sheet = \"a1\", \n",
    "        skip = 3, \n",
    "        col_names = FALSE\n",
    "    )"
   ]
  },
  {
   "cell_type": "markdown",
   "metadata": {},
   "source": [
    "The character vector below will be used later on in the notebook to identify the races"
   ]
  },
  {
   "cell_type": "code",
   "execution_count": 3,
   "metadata": {},
   "outputs": [],
   "source": [
    "races <- c(\"ALL RACES\", \"WHITE ALONE\", \"BLACK ALONE\", \"ASIAN ALONE\", \"HISPANIC\")"
   ]
  },
  {
   "cell_type": "markdown",
   "metadata": {},
   "source": [
    "In our first transformation step we will create a new dataframe and will assign to it the content of the unformatted_data dataframe"
   ]
  },
  {
   "cell_type": "code",
   "execution_count": 4,
   "metadata": {},
   "outputs": [],
   "source": [
    "transformation_step_1 <- unformatted_data"
   ]
  },
  {
   "cell_type": "markdown",
   "metadata": {},
   "source": [
    "In our next transformation step we will create a column that will be used to identify the race. The race is only identified at the begin of the section for each race. In the row that it is identified the other columns are NA's. Using that information create a calculated column that looks at all of the columns in 2-16 and if they are NA's we know that we are in a row that is identifying the race and we can use the value from X__1 as the race. We can ignore all other rows."
   ]
  },
  {
   "cell_type": "code",
   "execution_count": 6,
   "metadata": {},
   "outputs": [],
   "source": [
    "transformation_step_2 <-\n",
    "    mutate(transformation_step_1,\n",
    "        Race =\n",
    "            ifelse(\n",
    "                is.na(X__2) & is.na(X__3) & is.na(X__4) & is.na(X__5) & is.na(X__6) &\n",
    "                is.na(X__7) & is.na(X__8) & is.na(X__9) & is.na(X__10) & is.na(X__11) &\n",
    "                is.na(X__12) & is.na(X__13) & is.na(X__14) & is.na(X__15) & is.na(X__16),\n",
    "                X__1,\n",
    "                NA\n",
    "            )\n",
    "    )"
   ]
  },
  {
   "cell_type": "markdown",
   "metadata": {},
   "source": [
    "We now have a situation where the Race field is only populated in instances where columns 2:16 had NA's. We want to fill the race information down until we get to a row that has a race in it. We can easily do that using the fill function to accomplish that."
   ]
  },
  {
   "cell_type": "code",
   "execution_count": 7,
   "metadata": {},
   "outputs": [],
   "source": [
    "transformation_step_3 <- \n",
    "    fill(\n",
    "        transformation_step_2, \n",
    "        Race\n",
    "    )"
   ]
  },
  {
   "cell_type": "markdown",
   "metadata": {},
   "source": [
    "At this point we have the Race column field but we have situations where the same race is labeled differently. For instance in our first example you see that \"WHITE ALONE\" is named differently. In the block of code below we give each race a consistent name."
   ]
  },
  {
   "cell_type": "code",
   "execution_count": 8,
   "metadata": {},
   "outputs": [],
   "source": [
    "transformation_step_4 <-\n",
    "    mutate(\n",
    "        transformation_step_3,\n",
    "        Race =\n",
    "            ifelse(Race == \"WHITE ALONE 22\" | Race == \"WHITE 23\", \"WHITE ALONE\",\n",
    "            ifelse(Race == \"BLACK ALONE 24\" | Race == \"BLACK 23\", \"BLACK ALONE\",\n",
    "            ifelse(Race == \"ASIAN ALONE 25\" | Race == \"ASIAN AND PACIFIC ISLANDER 23\", \"ASIAN ALONE\",\n",
    "            ifelse(Race == \"HISPANIC (ANY RACE) 26\", \"HISPANIC\",\n",
    "            Race))))\n",
    "    )"
   ]
  },
  {
   "cell_type": "markdown",
   "metadata": {},
   "source": [
    "The data in rows 1:3 are header information that we don't need. We tell R that we want rows 4 to the last row using via the slice function. We do so by passing \"4:n()\" as the second argument to the slice function. The 4 tells the slice function where we want to start and the n() function count the number of rows in the dataframe thus dynamically giving us the last row. "
   ]
  },
  {
   "cell_type": "code",
   "execution_count": 9,
   "metadata": {},
   "outputs": [],
   "source": [
    "transformation_step_5 <- \n",
    "    slice(transformation_step_4, 4:n())"
   ]
  },
  {
   "cell_type": "markdown",
   "metadata": {},
   "source": [
    "We want to identify all of the rows that starts with a 4 digit string that represents a year. The rows that does not we want to exclude. Through inspecting the data we noticed that there were some years we multiple rows were provided for the same year and same race. We made the decision that we wanted to keep just the first one. We also noticed that the second one aloways had a superscripted \"2\". It is relatively easy to identify rows that starts with 4 numeric digits but to exclude ones that starts with 4 digists but is not followed by a space and a 2 at the end of the line is pretty challenging. Fortunately that is straight forward with regular expressions. We use a regular expression below to extract the year from rows that starts with 4 numeric digits but is not followed by a space and 2 at the end of the line."
   ]
  },
  {
   "cell_type": "code",
   "execution_count": 10,
   "metadata": {},
   "outputs": [],
   "source": [
    "transformation_step_6 <-\n",
    "    mutate(\n",
    "        transformation_step_5, X__1 = str_extract(X__1, \"^\\\\d{4}(?!\\\\s[2]$)\")\n",
    "    )"
   ]
  },
  {
   "cell_type": "markdown",
   "metadata": {},
   "source": [
    "We rename our columns"
   ]
  },
  {
   "cell_type": "code",
   "execution_count": 11,
   "metadata": {},
   "outputs": [],
   "source": [
    "transformation_step_7 <-\n",
    "    rename(\n",
    "        transformation_step_6,\n",
    "        Year = X__1, Population = X__2, Total = X__3, `< 15K` = X__4,\n",
    "        `[15 - 25K)` = X__5, `[25 - 35K)` = X__6, `[35 - 50K)` = X__7,\n",
    "        `[50 - 75K)` = X__8, `[75 - 100K)` = X__9, `[100 - 150K)` = X__10,\n",
    "        `[150 - 200K)` = X__11, `>= 200K` = X__12, `Median Income` = X__13,\n",
    "        `Median Income SE` = X__14, `Mean Income` = X__15, `Mean Income SE` = X__16\n",
    "    )"
   ]
  },
  {
   "cell_type": "markdown",
   "metadata": {},
   "source": [
    "We filter out all rows that either has NA in the Year field and is one of the races in the races character vector in the Race field."
   ]
  },
  {
   "cell_type": "code",
   "execution_count": 12,
   "metadata": {},
   "outputs": [],
   "source": [
    "transformation_step_8 <-\n",
    "    filter(\n",
    "        transformation_step_7, !is.na(Year) & Race %in% races\n",
    "    )"
   ]
  },
  {
   "cell_type": "markdown",
   "metadata": {},
   "source": [
    "All of the columns in our dataframe are in the character data type but all but the Race column should be in a numeric data type. We can easiy change the data type of each field to a numeric data type using the mutate_if function as represented in the code snippet below."
   ]
  },
  {
   "cell_type": "code",
   "execution_count": 13,
   "metadata": {},
   "outputs": [
    {
     "name": "stderr",
     "output_type": "stream",
     "text": [
      "Warning message in evalq(as.numeric(Population), <environment>):\n",
      "\"NAs introduced by coercion\"Warning message in evalq(as.numeric(`Mean Income`), <environment>):\n",
      "\"NAs introduced by coercion\"Warning message in evalq(as.numeric(`Mean Income SE`), <environment>):\n",
      "\"NAs introduced by coercion\""
     ]
    }
   ],
   "source": [
    "transformation_step_9 <-\n",
    "    mutate_if(\n",
    "        transformation_step_8, !(names(transformation_step_8) %in% c(\"Race\")), as.numeric\n",
    "    )"
   ]
  },
  {
   "cell_type": "markdown",
   "metadata": {},
   "source": [
    "We create a dataframe that represents income data and we subset the following fields for the dataframe."
   ]
  },
  {
   "cell_type": "code",
   "execution_count": 14,
   "metadata": {},
   "outputs": [],
   "source": [
    "income_data <- \n",
    "    select(\n",
    "        transformation_step_9, \n",
    "        Race, \n",
    "        Year, \n",
    "        Population, \n",
    "        `Mean Income`, \n",
    "        `Median Income`\n",
    "    )\n"
   ]
  },
  {
   "cell_type": "markdown",
   "metadata": {},
   "source": [
    "We create a named numeric vector with a length of 9 that will be used later on."
   ]
  },
  {
   "cell_type": "code",
   "execution_count": 15,
   "metadata": {},
   "outputs": [],
   "source": [
    "ranges <- c(\"< 15K\", \"[15 - 25K)\", \"[25 - 35K)\", \"[35 - 50K)\", \"[50 - 75K)\", \"[75 - 100K)\", \"[100 - 150K)\", \"[150 - 200K)\", \">= 200K\")\n",
    "range_id <- seq(1:9)\n",
    "names(range_id) <- ranges"
   ]
  },
  {
   "cell_type": "markdown",
   "metadata": {},
   "source": [
    "We create a named numeric vector with a length of 5 that will be used later on"
   ]
  },
  {
   "cell_type": "code",
   "execution_count": 16,
   "metadata": {},
   "outputs": [],
   "source": [
    "race <- c(\"ALL RACES\", \"WHITE ALONE\", \"BLACK ALONE\", \"ASIAN ALONE\", \"HISPANIC\")\n",
    "race_id <- c(5, 3, 1, 4, 2)\n",
    "names(race_id) <- race"
   ]
  },
  {
   "cell_type": "markdown",
   "metadata": {},
   "source": [
    "Write some stuff here"
   ]
  },
  {
   "cell_type": "code",
   "execution_count": 17,
   "metadata": {},
   "outputs": [],
   "source": [
    "tidy_income_distribution <-\n",
    "    transformation_step_9 %>%\n",
    "    select(\n",
    "        Race, Year, `< 15K`, `[15 - 25K)`, `[25 - 35K)`, `[35 - 50K)`, `[50 - 75K)`, \n",
    "        `[75 - 100K)`, `[100 - 150K)`, `[150 - 200K)`, `>= 200K`\n",
    "    ) %>%\n",
    "    gather(\n",
    "        key = \"Range\", \n",
    "        value = \"Percent\", \n",
    "        - Race, - Year\n",
    "    ) %>%\n",
    "    mutate(\n",
    "        RangeID = range_id[Range],\n",
    "        RaceID = race_id[Race]\n",
    "    ) %>%\n",
    "    select(\n",
    "        Year, RangeID, RaceID, Race, Range, Percent\n",
    "    ) %>%\n",
    "    arrange(\n",
    "        RaceID, Year, RangeID\n",
    "    )"
   ]
  },
  {
   "cell_type": "markdown",
   "metadata": {},
   "source": [
    "Visualize the income dataframe"
   ]
  },
  {
   "cell_type": "code",
   "execution_count": 18,
   "metadata": {},
   "outputs": [
    {
     "data": {
      "text/html": [
       "<table>\n",
       "<thead><tr><th scope=col>Race</th><th scope=col>Year</th><th scope=col>Population</th><th scope=col>Mean Income</th><th scope=col>Median Income</th></tr></thead>\n",
       "<tbody>\n",
       "\t<tr><td>ALL RACES</td><td>2016     </td><td>126224   </td><td>83143    </td><td>59039    </td></tr>\n",
       "\t<tr><td>ALL RACES</td><td>2015     </td><td>125819   </td><td>80265    </td><td>57230    </td></tr>\n",
       "\t<tr><td>ALL RACES</td><td>2014     </td><td>124587   </td><td>76783    </td><td>54398    </td></tr>\n",
       "\t<tr><td>ALL RACES</td><td>2013     </td><td>123931   </td><td>77480    </td><td>55214    </td></tr>\n",
       "\t<tr><td>ALL RACES</td><td>2012     </td><td>122459   </td><td>74507    </td><td>53331    </td></tr>\n",
       "\t<tr><td>ALL RACES</td><td>2011     </td><td>121084   </td><td>74336    </td><td>53401    </td></tr>\n",
       "</tbody>\n",
       "</table>\n"
      ],
      "text/latex": [
       "\\begin{tabular}{r|lllll}\n",
       " Race & Year & Population & Mean Income & Median Income\\\\\n",
       "\\hline\n",
       "\t ALL RACES & 2016      & 126224    & 83143     & 59039    \\\\\n",
       "\t ALL RACES & 2015      & 125819    & 80265     & 57230    \\\\\n",
       "\t ALL RACES & 2014      & 124587    & 76783     & 54398    \\\\\n",
       "\t ALL RACES & 2013      & 123931    & 77480     & 55214    \\\\\n",
       "\t ALL RACES & 2012      & 122459    & 74507     & 53331    \\\\\n",
       "\t ALL RACES & 2011      & 121084    & 74336     & 53401    \\\\\n",
       "\\end{tabular}\n"
      ],
      "text/markdown": [
       "\n",
       "Race | Year | Population | Mean Income | Median Income | \n",
       "|---|---|---|---|---|---|\n",
       "| ALL RACES | 2016      | 126224    | 83143     | 59039     | \n",
       "| ALL RACES | 2015      | 125819    | 80265     | 57230     | \n",
       "| ALL RACES | 2014      | 124587    | 76783     | 54398     | \n",
       "| ALL RACES | 2013      | 123931    | 77480     | 55214     | \n",
       "| ALL RACES | 2012      | 122459    | 74507     | 53331     | \n",
       "| ALL RACES | 2011      | 121084    | 74336     | 53401     | \n",
       "\n",
       "\n"
      ],
      "text/plain": [
       "  Race      Year Population Mean Income Median Income\n",
       "1 ALL RACES 2016 126224     83143       59039        \n",
       "2 ALL RACES 2015 125819     80265       57230        \n",
       "3 ALL RACES 2014 124587     76783       54398        \n",
       "4 ALL RACES 2013 123931     77480       55214        \n",
       "5 ALL RACES 2012 122459     74507       53331        \n",
       "6 ALL RACES 2011 121084     74336       53401        "
      ]
     },
     "metadata": {},
     "output_type": "display_data"
    }
   ],
   "source": [
    "head(income_data)"
   ]
  },
  {
   "cell_type": "markdown",
   "metadata": {},
   "source": [
    "Visualize the tidy_income_distribution dataframe"
   ]
  },
  {
   "cell_type": "code",
   "execution_count": 19,
   "metadata": {},
   "outputs": [
    {
     "data": {
      "text/html": [
       "<table>\n",
       "<thead><tr><th scope=col>Year</th><th scope=col>RangeID</th><th scope=col>RaceID</th><th scope=col>Race</th><th scope=col>Range</th><th scope=col>Percent</th></tr></thead>\n",
       "<tbody>\n",
       "\t<tr><td>1967                                                  </td><td>1                                                     </td><td>1                                                     </td><td>BLACK ALONE                                           </td><td><span style=white-space:pre-wrap>&lt; 15K      </span></td><td>28.7                                                  </td></tr>\n",
       "\t<tr><td>1967       </td><td>2          </td><td>1          </td><td>BLACK ALONE</td><td>[15 - 25K) </td><td>17.8       </td></tr>\n",
       "\t<tr><td>1967       </td><td>3          </td><td>1          </td><td>BLACK ALONE</td><td>[25 - 35K) </td><td>15.9       </td></tr>\n",
       "\t<tr><td>1967       </td><td>4          </td><td>1          </td><td>BLACK ALONE</td><td>[35 - 50K) </td><td>16.1       </td></tr>\n",
       "\t<tr><td>1967       </td><td>5          </td><td>1          </td><td>BLACK ALONE</td><td>[50 - 75K) </td><td>13.8       </td></tr>\n",
       "\t<tr><td>1967       </td><td>6          </td><td>1          </td><td>BLACK ALONE</td><td>[75 - 100K)</td><td> 4.6       </td></tr>\n",
       "</tbody>\n",
       "</table>\n"
      ],
      "text/latex": [
       "\\begin{tabular}{r|llllll}\n",
       " Year & RangeID & RaceID & Race & Range & Percent\\\\\n",
       "\\hline\n",
       "\t 1967        & 1           & 1           & BLACK ALONE & < 15K       & 28.7       \\\\\n",
       "\t 1967          & 2             & 1             & BLACK ALONE   & {[}15 - 25K)  & 17.8         \\\\\n",
       "\t 1967          & 3             & 1             & BLACK ALONE   & {[}25 - 35K)  & 15.9         \\\\\n",
       "\t 1967          & 4             & 1             & BLACK ALONE   & {[}35 - 50K)  & 16.1         \\\\\n",
       "\t 1967          & 5             & 1             & BLACK ALONE   & {[}50 - 75K)  & 13.8         \\\\\n",
       "\t 1967          & 6             & 1             & BLACK ALONE   & {[}75 - 100K) &  4.6         \\\\\n",
       "\\end{tabular}\n"
      ],
      "text/markdown": [
       "\n",
       "Year | RangeID | RaceID | Race | Range | Percent | \n",
       "|---|---|---|---|---|---|\n",
       "| 1967        | 1           | 1           | BLACK ALONE | < 15K       | 28.7        | \n",
       "| 1967        | 2           | 1           | BLACK ALONE | [15 - 25K)  | 17.8        | \n",
       "| 1967        | 3           | 1           | BLACK ALONE | [25 - 35K)  | 15.9        | \n",
       "| 1967        | 4           | 1           | BLACK ALONE | [35 - 50K)  | 16.1        | \n",
       "| 1967        | 5           | 1           | BLACK ALONE | [50 - 75K)  | 13.8        | \n",
       "| 1967        | 6           | 1           | BLACK ALONE | [75 - 100K) |  4.6        | \n",
       "\n",
       "\n"
      ],
      "text/plain": [
       "  Year RangeID RaceID Race        Range       Percent\n",
       "1 1967 1       1      BLACK ALONE < 15K       28.7   \n",
       "2 1967 2       1      BLACK ALONE [15 - 25K)  17.8   \n",
       "3 1967 3       1      BLACK ALONE [25 - 35K)  15.9   \n",
       "4 1967 4       1      BLACK ALONE [35 - 50K)  16.1   \n",
       "5 1967 5       1      BLACK ALONE [50 - 75K)  13.8   \n",
       "6 1967 6       1      BLACK ALONE [75 - 100K)  4.6   "
      ]
     },
     "metadata": {},
     "output_type": "display_data"
    }
   ],
   "source": [
    "head(tidy_income_distribution)"
   ]
  }
 ],
 "metadata": {
  "kernelspec": {
   "display_name": "R",
   "language": "R",
   "name": "ir"
  },
  "language_info": {
   "codemirror_mode": "r",
   "file_extension": ".r",
   "mimetype": "text/x-r-source",
   "name": "R",
   "pygments_lexer": "r",
   "version": "3.5.0"
  }
 },
 "nbformat": 4,
 "nbformat_minor": 2
}
