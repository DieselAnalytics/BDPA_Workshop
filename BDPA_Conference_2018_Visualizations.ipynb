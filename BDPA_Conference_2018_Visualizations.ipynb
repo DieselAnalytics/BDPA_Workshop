{
 "cells": [
  {
   "cell_type": "markdown",
   "metadata": {},
   "source": [
    "![title](BDPAlogo.png)"
   ]
  },
  {
   "cell_type": "markdown",
   "metadata": {},
   "source": [
    "# Visualizing Income by Race using R\n",
    "## BDPA Confernce 2018 "
   ]
  },
  {
   "cell_type": "markdown",
   "metadata": {},
   "source": [
    "The \"tidyverse\" is a group of R packages for data science. In this Jupyter Notebook we will be using 5 packages from the tidyverse. We will use the readr package to read in data into Jupyter Notebook, the dplyr package to shape the data, the scale package to format our numbers, the tidyr package for the drop_na() function, and the ggplot2 package to create the visualizations."
   ]
  },
  {
   "cell_type": "code",
   "execution_count": 3,
   "metadata": {},
   "outputs": [
    {
     "name": "stderr",
     "output_type": "stream",
     "text": [
      "-- Attaching packages --------------------------------------- tidyverse 1.2.1 --\n",
      "v ggplot2 2.2.1     v purrr   0.2.4\n",
      "v tibble  1.4.2     v dplyr   0.7.5\n",
      "v tidyr   0.8.1     v stringr 1.3.1\n",
      "v readr   1.1.1     v forcats 0.3.0\n",
      "-- Conflicts ------------------------------------------ tidyverse_conflicts() --\n",
      "x dplyr::filter() masks stats::filter()\n",
      "x dplyr::lag()    masks stats::lag()\n",
      "\n",
      "Attaching package: 'scales'\n",
      "\n",
      "The following object is masked from 'package:purrr':\n",
      "\n",
      "    discard\n",
      "\n",
      "The following object is masked from 'package:readr':\n",
      "\n",
      "    col_factor\n",
      "\n"
     ]
    }
   ],
   "source": [
    "library(tidyverse)\n",
    "library(scales)"
   ]
  },
  {
   "cell_type": "markdown",
   "metadata": {},
   "source": [
    "The code below reads in the data that will be used throughout the notebook into R dataframes. The income_data dataset contains a row that has NA's. NA's represents data points where the value was not available. I removed rows with \"NA\" using the drop_na() function from tidyr."
   ]
  },
  {
   "cell_type": "code",
   "execution_count": 4,
   "metadata": {},
   "outputs": [
    {
     "name": "stderr",
     "output_type": "stream",
     "text": [
      "Parsed with column specification:\n",
      "cols(\n",
      "  Race = col_character(),\n",
      "  Date = col_date(format = \"\"),\n",
      "  Year = col_double(),\n",
      "  Population = col_double(),\n",
      "  `Mean Income` = col_integer(),\n",
      "  `Median Income` = col_integer()\n",
      ")\n",
      "Parsed with column specification:\n",
      "cols(\n",
      "  Date = col_date(format = \"\"),\n",
      "  Year = col_double(),\n",
      "  RangeID = col_integer(),\n",
      "  RaceID = col_integer(),\n",
      "  Race = col_character(),\n",
      "  Range = col_character(),\n",
      "  Percent = col_double()\n",
      ")\n"
     ]
    }
   ],
   "source": [
    "setwd(\"C:/Users/rwade/OneDrive - Diesel Analytics/Talks/BDPA/Code/TestCode/\")\n",
    "income_data <- \n",
    "    read_csv(\"./Data/income_data.csv\") %>%\n",
    "    drop_na()\n",
    "tidy_income_distribution <- read_csv(\"./Data/tidy_income_distribution.csv\")"
   ]
  },
  {
   "cell_type": "markdown",
   "metadata": {},
   "source": [
    "The record that was removed above via the drop_na() function can be obtained by running the code below"
   ]
  },
  {
   "cell_type": "code",
   "execution_count": 5,
   "metadata": {},
   "outputs": [
    {
     "name": "stderr",
     "output_type": "stream",
     "text": [
      "Parsed with column specification:\n",
      "cols(\n",
      "  Race = col_character(),\n",
      "  Date = col_date(format = \"\"),\n",
      "  Year = col_double(),\n",
      "  Population = col_double(),\n",
      "  `Mean Income` = col_integer(),\n",
      "  `Median Income` = col_integer()\n",
      ")\n"
     ]
    },
    {
     "data": {
      "text/html": [
       "<table>\n",
       "<thead><tr><th scope=col>Race</th><th scope=col>Date</th><th scope=col>Year</th><th scope=col>Population</th><th scope=col>Mean Income</th><th scope=col>Median Income</th></tr></thead>\n",
       "<tbody>\n",
       "\t<tr><td>ASIAN ALONE</td><td>1987-01-01 </td><td>1987       </td><td>NA         </td><td>NA         </td><td>65154      </td></tr>\n",
       "</tbody>\n",
       "</table>\n"
      ],
      "text/latex": [
       "\\begin{tabular}{r|llllll}\n",
       " Race & Date & Year & Population & Mean Income & Median Income\\\\\n",
       "\\hline\n",
       "\t ASIAN ALONE & 1987-01-01  & 1987        & NA          & NA          & 65154      \\\\\n",
       "\\end{tabular}\n"
      ],
      "text/markdown": [
       "\n",
       "Race | Date | Year | Population | Mean Income | Median Income | \n",
       "|---|\n",
       "| ASIAN ALONE | 1987-01-01  | 1987        | NA          | NA          | 65154       | \n",
       "\n",
       "\n"
      ],
      "text/plain": [
       "  Race        Date       Year Population Mean Income Median Income\n",
       "1 ASIAN ALONE 1987-01-01 1987 NA         NA          65154        "
      ]
     },
     "metadata": {},
     "output_type": "display_data"
    }
   ],
   "source": [
    "    read_csv(\"./Data/income_data.csv\") %>%\n",
    "    filter_all(any_vars(is.na(.)))"
   ]
  },
  {
   "cell_type": "markdown",
   "metadata": {},
   "source": [
    "The code below creates a named character vector that is used to define the color for each race. We define the colors using the hex values that represents the color we want. You can get a list of hex values for various colors at http://cloford.com/resources/colours/500col.htm "
   ]
  },
  {
   "cell_type": "code",
   "execution_count": 6,
   "metadata": {},
   "outputs": [],
   "source": [
    "group <- c(\"WHITE ALONE\", \"BLACK ALONE\", \"ASIAN ALONE\", \"HISPANIC\", \"ALL RACES\")\n",
    "hex_values <- c(\"#f9e79f\", \"#17202a\", \"#FFFF00\", \"#b7950b\", \"#FF0000\")\n",
    "names(hex_values) <- group"
   ]
  },
  {
   "cell_type": "markdown",
   "metadata": {},
   "source": [
    "The code below creates a line plot using the income_data data set and ggplot to show mean income by race. Note how the black income experience has been relative to other races."
   ]
  },
  {
   "cell_type": "code",
   "execution_count": 7,
   "metadata": {},
   "outputs": [
    {
     "data": {},
     "metadata": {},
     "output_type": "display_data"
    },
    {
     "data": {
      "image/png": "[encoded data removed]",
      "text/plain": [
       "plot without title"
      ]
     },
     "metadata": {},
     "output_type": "display_data"
    }
   ],
   "source": [
    "p <- ggplot(income_data, aes(x = Year, y = `Mean Income`, color = Race)) +\n",
    "    geom_line() +\n",
    "    scale_color_manual(values = hex_values) +\n",
    "    scale_y_continuous(labels = comma) +\n",
    "    theme_classic() +\n",
    "    labs(\n",
    "        title = \"Mean Income by Race\",\n",
    "        subtitle = \"Median Income by Race for calendar years 1967 to 2016\",\n",
    "        caption = \"by Ryan Wade\"\n",
    "    )\n",
    "p\n"
   ]
  },
  {
   "cell_type": "markdown",
   "metadata": {},
   "source": [
    "The next chart we will create is a line chart that shows median income by race. Unlike the previous chart, this chart will have a dynamic elements that are calculated at runtime. The code below creates dynamic annotations in the chart. The annotations we show the terminal median income value for each race."
   ]
  },
  {
   "cell_type": "code",
   "execution_count": 8,
   "metadata": {},
   "outputs": [],
   "source": [
    "x_cord <- max(income_data$Year)\n",
    "black_y_cord <-\n",
    "    income_data %>%\n",
    "    filter(Race == \"BLACK ALONE\") %>%\n",
    "    arrange(desc(Year)) %>%\n",
    "    top_n(1, Year) %>%\n",
    "    select(`Median Income`) %>%\n",
    "    as.numeric()\n",
    "\n",
    "asian_y_cord <-\n",
    "    income_data %>%\n",
    "    filter(Race == \"ASIAN ALONE\") %>%\n",
    "    arrange(desc(Year)) %>%\n",
    "    top_n(1, Year) %>%\n",
    "    select(`Median Income`) %>%\n",
    "    as.numeric()\n",
    "\n",
    "white_y_cord <-\n",
    "    income_data %>%\n",
    "    filter(Race == \"WHITE ALONE\") %>%\n",
    "    arrange(desc(Year)) %>%\n",
    "    top_n(1, Year) %>%\n",
    "    select(`Median Income`) %>%\n",
    "    as.numeric()\n",
    "\n",
    "hispanic_y_cord <-\n",
    "    income_data %>%\n",
    "    filter(Race == \"HISPANIC\") %>%\n",
    "    arrange(desc(Year)) %>%\n",
    "    top_n(1, Year) %>%\n",
    "    select(`Median Income`) %>%\n",
    "    as.numeric()\n",
    "\n",
    "all_y_cord <-\n",
    "    income_data %>%\n",
    "    filter(Race == \"ALL RACES\") %>%\n",
    "    arrange(desc(Year)) %>%\n",
    "    top_n(1, Year) %>%\n",
    "    select(`Median Income`) %>%\n",
    "    as.numeric()\n",
    "\n",
    "black_annotation <- dollar(black_y_cord)\n",
    "asian_annotation <- dollar(asian_y_cord)\n",
    "white_annotation <- dollar(white_y_cord)\n",
    "hispanic_annotation <- dollar(hispanic_y_cord)\n",
    "all_annotation <- dollar(all_y_cord)"
   ]
  },
  {
   "cell_type": "markdown",
   "metadata": {},
   "source": [
    "Below is a line graph of median income by race that have dynamic annotations that plots the median income by race for the last year in the data set. \n",
    "\n",
    "The black median income experience is very similar to the black mean income experience. Every year of the study we were **dead last** compared to the other races."
   ]
  },
  {
   "cell_type": "code",
   "execution_count": 9,
   "metadata": {},
   "outputs": [
    {
     "data": {},
     "metadata": {},
     "output_type": "display_data"
    },
    {
     "data": {
      "image/png": "[encoded data removed]",
      "text/plain": [
       "plot without title"
      ]
     },
     "metadata": {},
     "output_type": "display_data"
    }
   ],
   "source": [
    "p <- ggplot(income_data, aes(x = Year, y = `Median Income`, color = Race)) +\n",
    "     geom_line() +\n",
    "     scale_color_manual(values = hex_values) +\n",
    "     scale_y_continuous(labels = comma) +\n",
    "     theme_classic() +\n",
    "     annotate(\"text\", x = x_cord, y = black_y_cord, label = black_annotation, size = 3) +\n",
    "     annotate(\"text\", x = x_cord, y = asian_y_cord, label = asian_annotation, size = 3) +\n",
    "     annotate(\"text\", x = x_cord, y = white_y_cord, label = white_annotation, size = 3) +\n",
    "     annotate(\"text\", x = x_cord, y = hispanic_y_cord, label = hispanic_annotation, size = 3) +\n",
    "     annotate(\"text\", x = x_cord, y = all_y_cord, label = all_annotation, size = 3) +\n",
    "     labs(\n",
    "         title = \"Median Income by Race\",\n",
    "         subtitle = \"Median Income by Race for calendar years 1967 to 2016\",\n",
    "         caption = \"by Ryan Wade\"\n",
    "     )\n",
    "p"
   ]
  },
  {
   "cell_type": "markdown",
   "metadata": {},
   "source": [
    "In the code below I am using the dplyr package to reshape the data for a facet chart that we will soon create. One of the most powerful features of dplyr is a feature called **piping**. Piping is done using **\"%>%\"** and it enables you to take the results of a function and pass it as the first parameter to another function. This makes your code much more readable."
   ]
  },
  {
   "cell_type": "code",
   "execution_count": 10,
   "metadata": {},
   "outputs": [],
   "source": [
    "ID_100Ksplit <-\n",
    "    tidy_income_distribution %>%\n",
    "    mutate(\n",
    "        Race = factor(\n",
    "                    Race,\n",
    "                    levels = c(\"BLACK ALONE\", \"HISPANIC\", \"WHITE ALONE\", \"ASIAN ALONE\"),\n",
    "                    exclude = \"ALL RACES\"\n",
    "               ),\n",
    "        `Income Category` = ifelse(RangeID < 6, \"Less than 100K\", \"Greater than 100K\")\n",
    "    ) %>%\n",
    "    group_by(Race, Year, `Income Category`) %>%\n",
    "    summarize(Value = sum(Percent)) %>%\n",
    "    filter(Year >= 2001 & Race != \"ALL RACES\")"
   ]
  },
  {
   "cell_type": "markdown",
   "metadata": {},
   "source": [
    "Below is an example of a facet chart. Facets charts are very powerful because they enable you to create a visualization that is broken out by a variable. In the facet chart below the variable is year."
   ]
  },
  {
   "cell_type": "code",
   "execution_count": 11,
   "metadata": {},
   "outputs": [
    {
     "data": {},
     "metadata": {},
     "output_type": "display_data"
    },
    {
     "data": {
      "image/png": "[encoded data removed]",
      "text/plain": [
       "plot without title"
      ]
     },
     "metadata": {},
     "output_type": "display_data"
    }
   ],
   "source": [
    "p <- ggplot(ID_100Ksplit, aes(x = Race, y = Value, fill = `Income Category`)) +\n",
    "    geom_bar(stat = \"identity\") +\n",
    "    coord_flip() +\n",
    "    facet_wrap(~Year)\n",
    "p"
   ]
  },
  {
   "cell_type": "markdown",
   "metadata": {},
   "source": [
    "Below we are creating a data set that is similiar to the one used in the chart above. The differnce is that we moved the cutoff point up to 150K. We will use the data to create another facet chart but this one will be contain a dynamic title that describes information about the chart."
   ]
  },
  {
   "cell_type": "code",
   "execution_count": 12,
   "metadata": {},
   "outputs": [],
   "source": [
    "ID_150Ksplit <-\n",
    "    tidy_income_distribution %>%\n",
    "    mutate(\n",
    "        Race = factor(\n",
    "                    Race,\n",
    "                    levels = c(\"BLACK ALONE\", \"HISPANIC\", \"WHITE ALONE\", \"ASIAN ALONE\"),\n",
    "                    exclude = \"ALL RACES\"\n",
    "               ),\n",
    "        `Income Category` = ifelse(RangeID < 8, \"Less than 150K\", \"Greater than 150K\")\n",
    "    ) %>%\n",
    "    group_by(Race, Year, `Income Category`) %>%\n",
    "    summarize(Value = sum(Percent)) %>%\n",
    "    filter(Year >= 2001 & Race != \"ALL RACES\")\n"
   ]
  },
  {
   "cell_type": "markdown",
   "metadata": {},
   "source": [
    "The dynamic title that will be used in the next chart will be created using the code below. The code creates a dynamic title that compares Asians to Blacks."
   ]
  },
  {
   "cell_type": "code",
   "execution_count": 13,
   "metadata": {},
   "outputs": [],
   "source": [
    "MaxYear <- max(ID_150Ksplit$Year)\n",
    "\n",
    "Asians <-\n",
    "    ID_150Ksplit %>%\n",
    "    ungroup(Race, Year, `Income Category`) %>%\n",
    "    filter(Race == \"ASIAN ALONE\", Year == 2016, `Income Category` == \"Greater than 150K\") %>%\n",
    "    select(Value) %>%\n",
    "    as.numeric() / 100\n",
    "\n",
    "Blacks <-\n",
    "    ID_150Ksplit %>%\n",
    "    ungroup(Race, Year, `Income Category`) %>%\n",
    "    filter(Race == \"BLACK ALONE\", Year == 2016, `Income Category` == \"Greater than 150K\") %>%\n",
    "    select(Value) %>%\n",
    "    as.numeric() / 100 \n",
    "\n",
    "charttitle <- \"Percent House-Holds Greater Than $150K\"\n",
    "chartsubtitle =\n",
    "    str_wrap(\n",
    "        paste(\n",
    "            paste0(\"In \",MaxYear,\",\"), \n",
    "            \"only\",\n",
    "            percent(Blacks), \n",
    "            \"of black house-holds had an income greater than $150K but in that year\",\n",
    "            percent(Asians), \n",
    "            \"of Asian families had incomes greater than $150K.\",\n",
    "            sep = \" \"\n",
    "        )\n",
    "    )"
   ]
  },
  {
   "cell_type": "markdown",
   "metadata": {},
   "source": [
    "The code below creates a facet chart that compares income mix by race. Note how much lower the % of black households are compared to the other races, especially the Asians!"
   ]
  },
  {
   "cell_type": "code",
   "execution_count": 14,
   "metadata": {
    "scrolled": true
   },
   "outputs": [
    {
     "data": {},
     "metadata": {},
     "output_type": "display_data"
    },
    {
     "data": {
      "image/png": "[encoded data removed]",
      "text/plain": [
       "plot without title"
      ]
     },
     "metadata": {},
     "output_type": "display_data"
    }
   ],
   "source": [
    "p <- ggplot(ID_150Ksplit, aes(x = Race, y = Value, fill = `Income Category`)) +\n",
    "    geom_bar(stat = \"identity\") +\n",
    "    coord_flip() +\n",
    "    facet_wrap(~Year) +\n",
    "    labs(title = charttitle, subtitle = chartsubtitle)\n",
    "p"
   ]
  },
  {
   "cell_type": "markdown",
   "metadata": {},
   "source": [
    "So far in all of the charts that we developed blacks were dead last in every category. Let's analyze the poor and see if blacks are number one in that category. We filter out data on the poor from the tidy_income_distribution data set. In this case we are defining poor as families that makes less than $15K."
   ]
  },
  {
   "cell_type": "code",
   "execution_count": 15,
   "metadata": {},
   "outputs": [],
   "source": [
    "The_Poor <-\n",
    "    tidy_income_distribution %>%\n",
    "    filter(Race != \"ALL RACES\" & RangeID == 1) %>%\n",
    "    select(Race, Year, Percent)\n"
   ]
  },
  {
   "cell_type": "markdown",
   "metadata": {},
   "source": [
    "The chart will contain a dynamic title that will be created using the code below."
   ]
  },
  {
   "cell_type": "code",
   "execution_count": 16,
   "metadata": {},
   "outputs": [],
   "source": [
    "x_cord <- max(The_Poor$Year)\n",
    "\n",
    "black_poor <-\n",
    "    The_Poor %>%\n",
    "    filter(Race == \"BLACK ALONE\") %>%\n",
    "    arrange(desc(Year)) %>%\n",
    "    top_n(1, Year) %>%\n",
    "    select(Percent) %>%\n",
    "    as.numeric()\n",
    "\n",
    "white_poor <-\n",
    "    The_Poor %>%\n",
    "    filter(Race == \"WHITE ALONE\") %>%\n",
    "    arrange(desc(Year)) %>%\n",
    "    top_n(1, Year) %>%\n",
    "    select(Percent) %>%\n",
    "    as.numeric()\n",
    "\n",
    "asian_poor <-\n",
    "    The_Poor %>%\n",
    "    filter(Race == \"ASIAN ALONE\") %>%\n",
    "    arrange(desc(Year)) %>%\n",
    "    top_n(1, Year) %>%\n",
    "    select(Percent) %>%\n",
    "    as.numeric()\n",
    "\n",
    "hispanic_poor <-\n",
    "    The_Poor %>%\n",
    "    filter(Race == \"HISPANIC\") %>%\n",
    "    arrange(desc(Year)) %>%\n",
    "    top_n(1, Year) %>%\n",
    "    select(Percent) %>%\n",
    "    as.numeric()\n",
    "\n",
    "compared_to_whites <- percent(black_poor/white_poor)\n",
    "compared_to_asians <- percent(black_poor/asian_poor)\n",
    "compared_to_hispanics <- percent(black_poor/hispanic_poor)\n",
    "chart_subtitle <-\n",
    "    str_wrap(\n",
    "        paste(\n",
    "            \"The poor by race for calendar years 1967 to 2016.\",\n",
    "            \"In 2016, the percentage of blacks that are in the poor category is\",\n",
    "            compared_to_hispanics,\n",
    "            \"higher than it is for hispanics,\",\n",
    "            compared_to_whites,\n",
    "            \"higher than it is for whites, and\",\n",
    "            compared_to_asians,\n",
    "            \"highter than it is for asians.\"\n",
    "        )\n",
    "    )"
   ]
  },
  {
   "cell_type": "markdown",
   "metadata": {},
   "source": [
    "Finally we are number one is something from an economic standpoint. SMH. The Asians and Whites were fighting for last place but looks like the Asians won the fight at the end."
   ]
  },
  {
   "cell_type": "code",
   "execution_count": 17,
   "metadata": {},
   "outputs": [
    {
     "data": {},
     "metadata": {},
     "output_type": "display_data"
    },
    {
     "data": {
      "image/png": "[encoded data removed]",
      "text/plain": [
       "plot without title"
      ]
     },
     "metadata": {},
     "output_type": "display_data"
    }
   ],
   "source": [
    "p <- ggplot(The_Poor, aes(x = Year, y = Percent, color = Race)) +\n",
    "     geom_line() +\n",
    "     scale_color_manual(values = hex_values) +\n",
    "     theme_classic() +\n",
    "     labs(\n",
    "         title = \"The Poor by Race\",\n",
    "         subtitle = chart_subtitle,\n",
    "         caption = \"by Ryan Wade\"\n",
    "     )\n",
    "p"
   ]
  }
 ],
 "metadata": {
  "kernelspec": {
   "display_name": "R",
   "language": "R",
   "name": "ir"
  },
  "language_info": {
   "codemirror_mode": "r",
   "file_extension": ".r",
   "mimetype": "text/x-r-source",
   "name": "R",
   "pygments_lexer": "r",
   "version": "3.5.0"
  }
 },
 "nbformat": 4,
 "nbformat_minor": 2
}
